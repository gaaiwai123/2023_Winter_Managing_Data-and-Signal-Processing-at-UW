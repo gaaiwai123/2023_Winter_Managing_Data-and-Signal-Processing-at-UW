{
 "cells": [
  {
   "attachments": {},
   "cell_type": "markdown",
   "metadata": {},
   "source": [
    "Name: Chia-Wei Chang </br>\n",
    "Preparations for Final Project"
   ]
  },
  {
   "attachments": {},
   "cell_type": "markdown",
   "metadata": {},
   "source": [
    "Part A. Connect to Spotify API"
   ]
  },
  {
   "attachments": {},
   "cell_type": "markdown",
   "metadata": {},
   "source": [
    "Step 1. Install Spotipy library: You can install the Spotipy library using pip, by running the following command in your terminal or command prompt."
   ]
  },
  {
   "cell_type": "code",
   "execution_count": null,
   "metadata": {},
   "outputs": [],
   "source": [
    "# pip install spotipy\n",
    "# conda install -c conda-forge spotipy"
   ]
  },
  {
   "attachments": {},
   "cell_type": "markdown",
   "metadata": {},
   "source": [
    "Step 2. Import the Spotipy library: In your Python code, you can import the Spotipy library by adding the following line at the beginning of your script."
   ]
  },
  {
   "cell_type": "code",
   "execution_count": 3,
   "metadata": {},
   "outputs": [],
   "source": [
    "import spotipy\n",
    "import pandas as pd\n",
    "from spotipy.oauth2 import SpotifyClientCredentials"
   ]
  },
  {
   "attachments": {},
   "cell_type": "markdown",
   "metadata": {},
   "source": [
    "Step 3. Set up your Spotify API credentials: You will need to set up your Spotify API credentials to be able to access the API. You can do this by creating a Spotify Developer account and creating a new app. Once you have created an app, you will be provided with a Client ID and Client Secret. You will need to use these credentials to authenticate your application with the Spotify API."
   ]
  },
  {
   "cell_type": "code",
   "execution_count": 4,
   "metadata": {},
   "outputs": [],
   "source": [
    "client_id = \"af41dd34ac11488c9351e2632411d974\"\n",
    "client_secret = \"1d69550688494d4c91dbdd5f7ccf769c\"\n",
    "\n",
    "client_credentials_manager = SpotifyClientCredentials(client_id=client_id, client_secret=client_secret)\n",
    "sp = spotipy.Spotify(client_credentials_manager=client_credentials_manager)"
   ]
  },
  {
   "attachments": {},
   "cell_type": "markdown",
   "metadata": {},
   "source": [
    "Step 4. Make API requests: Once you have set up your credentials, you can start making API requests using the Spotipy library. For example, to get the top tracks for an artist, you can use the following code.\n",
    "\n",
    "This code searches for the artist \"Ed Sheeran,\" gets the artist's ID, and then gets the artist's top tracks using the artist_top_tracks() method. It then prints the names of the top tracks to the console."
   ]
  },
  {
   "cell_type": "code",
   "execution_count": 10,
   "metadata": {},
   "outputs": [
    {
     "name": "stdout",
     "output_type": "stream",
     "text": [
      "Perfect\n",
      "Shivers\n",
      "Shape of You\n",
      "Bad Habits\n",
      "Bam Bam (feat. Ed Sheeran)\n",
      "Photograph\n",
      "Thinking out Loud\n",
      "Celestial\n",
      "For My Hand (feat. Ed Sheeran)\n",
      "I Don't Care\n"
     ]
    }
   ],
   "source": [
    "artist_name = \"Ed Sheeran\"\n",
    "results = sp.search(q=artist_name, type=\"artist\")\n",
    "artist_id = results[\"artists\"][\"items\"][0][\"id\"]\n",
    "top_tracks = sp.artist_top_tracks(artist_id)\n",
    "for track in top_tracks[\"tracks\"]:\n",
    "    print(track[\"name\"])"
   ]
  },
  {
   "attachments": {},
   "cell_type": "markdown",
   "metadata": {},
   "source": [
    "Part B. Preprocess data from the Spotify API for machine learning."
   ]
  },
  {
   "attachments": {},
   "cell_type": "markdown",
   "metadata": {},
   "source": [
    "Step 1. Get a list of rock artists: First, you need to get a list of rock artists from the Spotify API. You can use the search() method of the Spotipy library to search for rock artists by specifying the genre as \"rock\" and the type as \"artist\". The following code will return a list of artists who are classified as \"rock\" by Spotify."
   ]
  },
  {
   "cell_type": "code",
   "execution_count": 11,
   "metadata": {},
   "outputs": [],
   "source": [
    "results = sp.search(q='genre:\"rock\"', type='artist')"
   ]
  },
  {
   "attachments": {},
   "cell_type": "markdown",
   "metadata": {},
   "source": [
    "Step 2. Get the top tracks for each artist: Once you have a list of rock artists, you can use the artist_top_tracks() method of the Spotipy library to get the top tracks for each artist. You can use a loop to iterate over the list of artists and get their top tracks. The following code loops over the list of rock artists returned by the search and gets the top tracks for each artist using the artist_top_tracks() method. It then appends the artist name, track ID, and track name to a list called rock_artists."
   ]
  },
  {
   "cell_type": "code",
   "execution_count": 12,
   "metadata": {},
   "outputs": [],
   "source": [
    "rock_artists = []\n",
    "for artist in results['artists']['items']:\n",
    "    top_tracks = sp.artist_top_tracks(artist['id'])\n",
    "    for track in top_tracks['tracks']:\n",
    "        rock_artists.append((artist['name'], track['id'], track['name']))"
   ]
  },
  {
   "attachments": {},
   "cell_type": "markdown",
   "metadata": {},
   "source": [
    "Step 3. Get the audio features for each track: Once you have a list of rock tracks, you can use the audio_features() method of the Spotipy library to get the audio features for each track. You can use a loop to iterate over the list of tracks and get their audio features. The following code loops over the list of rock tracks and gets the audio features for each track using the audio_features() method. It then adds the artist name and track name to the features dictionary and appends it to a list called rock_tracks."
   ]
  },
  {
   "cell_type": "code",
   "execution_count": 18,
   "metadata": {},
   "outputs": [],
   "source": [
    "rock_tracks = []\n",
    "for artist, track_id, track_name in rock_artists:\n",
    "    features = sp.audio_features(track_id)[0]\n",
    "    features['artist'] = artist\n",
    "    features['track_name'] = track_name\n",
    "    rock_tracks.append(features)"
   ]
  },
  {
   "attachments": {},
   "cell_type": "markdown",
   "metadata": {},
   "source": [
    "Step 4. Convert the data to a Pandas dataframe: Once you have a list of rock tracks with their audio features, you can convert the data to a Pandas dataframe for easier manipulation and preprocessing. The following code creates a Pandas dataframe from the rock_tracks list."
   ]
  },
  {
   "cell_type": "code",
   "execution_count": 19,
   "metadata": {},
   "outputs": [],
   "source": [
    "df = pd.DataFrame(rock_tracks)\n",
    "df.to_csv(\"9. Rockify_Dataset.csv\", index=False)"
   ]
  },
  {
   "attachments": {},
   "cell_type": "markdown",
   "metadata": {},
   "source": [
    "Step 5. Preprocess the data: Finally, you can preprocess the data to prepare it for machine learning. This will depend on the specific machine learning algorithm you plan to use, but some common preprocessing steps include scaling the features, encoding categorical variables, and splitting the data into training and testing sets. Once you have preprocessed the data, you can use it to train a machine learning model to distinguish between different rock subgenres. Some common machine learning algorithms for classification tasks like this include decision trees, random forests, and support vector machines."
   ]
  },
  {
   "cell_type": "code",
   "execution_count": 20,
   "metadata": {},
   "outputs": [
    {
     "name": "stdout",
     "output_type": "stream",
     "text": [
      "Accuracy: 0.4\n"
     ]
    }
   ],
   "source": [
    "# Import necessary libraries\n",
    "from sklearn.model_selection import train_test_split\n",
    "from sklearn.ensemble import RandomForestClassifier\n",
    "from sklearn.preprocessing import StandardScaler, LabelEncoder\n",
    "\n",
    "# Split the data into training and testing sets: \n",
    "# This is done using the train_test_split() method from scikit-learn. \n",
    "# We drop the non-numeric columns from the input data and \n",
    "# use the artist names as the output labels.\n",
    "X = df.drop(['artist', 'track_name', 'id', 'track_href', 'uri', 'analysis_url', 'type'], axis=1)  # drop non-numeric columns\n",
    "y = df['artist']\n",
    "X_train, X_test, y_train, y_test = train_test_split(X, y, test_size=0.2, random_state=42)\n",
    "\n",
    "# Scale the features: This is done using the StandardScaler() method from scikit-learn. \n",
    "# This ensures that all the features are on the same scale, \n",
    "# which can help the classifier to perform better.\n",
    "scaler = StandardScaler()\n",
    "X_train = scaler.fit_transform(X_train)\n",
    "X_test = scaler.transform(X_test)\n",
    "\n",
    "# Encode the labels: This is done using the LabelEncoder() method from scikit-learn. \n",
    "# This converts the artist names to numeric labels, \n",
    "# which can be used as input to the classifier.\n",
    "le = LabelEncoder()\n",
    "y_train = le.fit_transform(y_train)\n",
    "y_test = le.transform(y_test)\n",
    "\n",
    "# Train a random forest classifier: \n",
    "# This is done using the RandomForestClassifier() method from scikit-learn. \n",
    "# We use 100 trees in the forest and set the random state for reproducibility.\n",
    "rf = RandomForestClassifier(n_estimators=100, random_state=42)\n",
    "rf.fit(X_train, y_train)\n",
    "\n",
    "# Evaluate the performance of the classifier: \n",
    "# This is done using the score() method of the classifier. \n",
    "# We calculate the accuracy of the classifier on the test set.\n",
    "accuracy = rf.score(X_test, y_test)\n",
    "print(f\"Accuracy: {accuracy}\")\n"
   ]
  },
  {
   "attachments": {},
   "cell_type": "markdown",
   "metadata": {},
   "source": [
    "Part C. Train a machine learning model to distinguish between different rock subgenres using the preprocessed data."
   ]
  },
  {
   "attachments": {},
   "cell_type": "markdown",
   "metadata": {},
   "source": [
    "Step 1. To make predictions using the trained model, you can use the predict() method of the classifier. The following code will give you a report that summarizes the precision, recall, and F1 score of the classifier for each class. This can help you evaluate the performance of the classifier and identify any potential issues."
   ]
  },
  {
   "cell_type": "code",
   "execution_count": 21,
   "metadata": {},
   "outputs": [
    {
     "name": "stdout",
     "output_type": "stream",
     "text": [
      "              precision    recall  f1-score   support\n",
      "\n",
      "           0       0.00      0.00      0.00         3\n",
      "           1       1.00      0.25      0.40         4\n",
      "           2       0.25      1.00      0.40         1\n",
      "           3       1.00      0.50      0.67         2\n",
      "           4       0.00      0.00      0.00         2\n",
      "           5       1.00      1.00      1.00         2\n",
      "           6       0.00      0.00      0.00         1\n",
      "           7       0.00      0.00      0.00         0\n",
      "           8       0.25      1.00      0.40         1\n",
      "           9       0.50      0.50      0.50         4\n",
      "\n",
      "    accuracy                           0.40        20\n",
      "   macro avg       0.40      0.42      0.34        20\n",
      "weighted avg       0.53      0.40      0.39        20\n",
      "\n"
     ]
    },
    {
     "name": "stderr",
     "output_type": "stream",
     "text": [
      "/Users/wei/opt/anaconda3/lib/python3.9/site-packages/sklearn/metrics/_classification.py:1318: UndefinedMetricWarning: Precision and F-score are ill-defined and being set to 0.0 in labels with no predicted samples. Use `zero_division` parameter to control this behavior.\n",
      "  _warn_prf(average, modifier, msg_start, len(result))\n",
      "/Users/wei/opt/anaconda3/lib/python3.9/site-packages/sklearn/metrics/_classification.py:1318: UndefinedMetricWarning: Recall and F-score are ill-defined and being set to 0.0 in labels with no true samples. Use `zero_division` parameter to control this behavior.\n",
      "  _warn_prf(average, modifier, msg_start, len(result))\n",
      "/Users/wei/opt/anaconda3/lib/python3.9/site-packages/sklearn/metrics/_classification.py:1318: UndefinedMetricWarning: Precision and F-score are ill-defined and being set to 0.0 in labels with no predicted samples. Use `zero_division` parameter to control this behavior.\n",
      "  _warn_prf(average, modifier, msg_start, len(result))\n",
      "/Users/wei/opt/anaconda3/lib/python3.9/site-packages/sklearn/metrics/_classification.py:1318: UndefinedMetricWarning: Recall and F-score are ill-defined and being set to 0.0 in labels with no true samples. Use `zero_division` parameter to control this behavior.\n",
      "  _warn_prf(average, modifier, msg_start, len(result))\n",
      "/Users/wei/opt/anaconda3/lib/python3.9/site-packages/sklearn/metrics/_classification.py:1318: UndefinedMetricWarning: Precision and F-score are ill-defined and being set to 0.0 in labels with no predicted samples. Use `zero_division` parameter to control this behavior.\n",
      "  _warn_prf(average, modifier, msg_start, len(result))\n",
      "/Users/wei/opt/anaconda3/lib/python3.9/site-packages/sklearn/metrics/_classification.py:1318: UndefinedMetricWarning: Recall and F-score are ill-defined and being set to 0.0 in labels with no true samples. Use `zero_division` parameter to control this behavior.\n",
      "  _warn_prf(average, modifier, msg_start, len(result))\n"
     ]
    }
   ],
   "source": [
    "# Make predictions using the trained model\n",
    "y_pred = rf.predict(X_test)\n",
    "\n",
    "# Print the classification report\n",
    "from sklearn.metrics import classification_report\n",
    "print(classification_report(y_test, y_pred))"
   ]
  },
  {
   "attachments": {},
   "cell_type": "markdown",
   "metadata": {},
   "source": [
    "Step 2. Visualize the performance of the classifier using a confusion matrix. This will give you a visual representation of how the classifier is performing on each class."
   ]
  },
  {
   "cell_type": "code",
   "execution_count": 22,
   "metadata": {},
   "outputs": [
    {
     "name": "stderr",
     "output_type": "stream",
     "text": [
      "/Users/wei/opt/anaconda3/lib/python3.9/site-packages/sklearn/utils/deprecation.py:87: FutureWarning: Function plot_confusion_matrix is deprecated; Function `plot_confusion_matrix` is deprecated in 1.0 and will be removed in 1.2. Use one of the class methods: ConfusionMatrixDisplay.from_predictions or ConfusionMatrixDisplay.from_estimator.\n",
      "  warnings.warn(msg, category=FutureWarning)\n"
     ]
    },
    {
     "data": {
      "text/plain": [
       "<sklearn.metrics._plot.confusion_matrix.ConfusionMatrixDisplay at 0x7fbce1ba6c40>"
      ]
     },
     "execution_count": 22,
     "metadata": {},
     "output_type": "execute_result"
    },
    {
     "data": {
      "image/png": "[encoded data removed]",
      "text/plain": [
       "<Figure size 640x480 with 2 Axes>"
      ]
     },
     "metadata": {},
     "output_type": "display_data"
    }
   ],
   "source": [
    "# Plot the confusion matrix\n",
    "from sklearn.metrics import plot_confusion_matrix\n",
    "plot_confusion_matrix(rf, X_test, y_test)"
   ]
  }
 ],
 "metadata": {
  "kernelspec": {
   "display_name": "tf",
   "language": "python",
   "name": "python3"
  },
  "language_info": {
   "codemirror_mode": {
    "name": "ipython",
    "version": 3
   },
   "file_extension": ".py",
   "mimetype": "text/x-python",
   "name": "python",
   "nbconvert_exporter": "python",
   "pygments_lexer": "ipython3",
   "version": "3.9.13"
  },
  "orig_nbformat": 4
 },
 "nbformat": 4,
 "nbformat_minor": 2
}
